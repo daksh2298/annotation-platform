{
 "cells": [
  {
   "cell_type": "code",
   "execution_count": 48,
   "metadata": {
    "collapsed": true
   },
   "outputs": [],
   "source": [
    "import pandas as pd\n",
    "import datetime"
   ]
  },
  {
   "cell_type": "code",
   "execution_count": 52,
   "outputs": [],
   "source": [
    "def get_time_string():\n",
    "    return str(datetime.datetime.now()).split('.')[0].replace(\"-\",\"_\").replace(\" \",\"_\").replace(\":\",\"_\")"
   ],
   "metadata": {
    "collapsed": false,
    "pycharm": {
     "name": "#%%\n"
    }
   }
  },
  {
   "cell_type": "code",
   "execution_count": 53,
   "outputs": [],
   "source": [
    "def csvToJson(filename):\n",
    "    lang=None\n",
    "    write_file=\"../dataset/\"\n",
    "    if filename.find(\"en\")!=-1:\n",
    "        lang=\"en\"\n",
    "        write_file+=lang\n",
    "    elif filename.find(\"hi\")!=-1:\n",
    "        lang=\"hi\"\n",
    "        write_file+=lang\n",
    "    elif filename.find(\"Ge\")!=-1 or filename.find(\"de\")!=-1:\n",
    "        lang=\"de\"\n",
    "        write_file+=lang\n",
    "    df =  pd.read_csv(filename)\n",
    "    print(df.columns)\n",
    "    df=df[['id','text']]\n",
    "    print(df.columns)\n",
    "    curr_time_str=get_time_string()\n",
    "    write_file+=\"/{}.json\".format(curr_time_str)\n",
    "    df.columns=[\"id_str\", \"text\"]\n",
    "    df=df.drop_duplicates(\"id_str\")\n",
    "    lang_li=[lang]*len(df)\n",
    "    df['lang']=lang_li\n",
    "    df[[\"id_str\",\"text\", 'lang']].to_json(write_file,orient=\"records\",default_handler=list,indent=2)\n",
    "    return write_file"
   ],
   "metadata": {
    "collapsed": false,
    "pycharm": {
     "name": "#%%\n"
    }
   }
  },
  {
   "cell_type": "code",
   "execution_count": 56,
   "outputs": [
    {
     "name": "stdout",
     "output_type": "stream",
     "text": [
      "Index(['id', 'text', 'user_id', 'pre_lab'], dtype='object')\n",
      "Index(['id', 'text'], dtype='object')\n"
     ]
    }
   ],
   "source": [
    "file_name=csvToJson(\"/Users/daksh/Desktop/hasoc/hasoc2020/annotation-platform-heroku/project/model/eng_arch_01519.csv\")"
   ],
   "metadata": {
    "collapsed": false,
    "pycharm": {
     "name": "#%%\n"
    }
   }
  },
  {
   "cell_type": "code",
   "execution_count": 57,
   "outputs": [
    {
     "data": {
      "text/plain": "'../dataset/en/2020_06_02_16_29_00.json'"
     },
     "execution_count": 57,
     "metadata": {},
     "output_type": "execute_result"
    }
   ],
   "source": [
    "file_name"
   ],
   "metadata": {
    "collapsed": false,
    "pycharm": {
     "name": "#%%\n"
    }
   }
  },
  {
   "cell_type": "code",
   "execution_count": null,
   "outputs": [],
   "source": [
    "\n"
   ],
   "metadata": {
    "collapsed": false,
    "pycharm": {
     "name": "#%%\n"
    }
   }
  }
 ],
 "metadata": {
  "kernelspec": {
   "display_name": "Python 3",
   "language": "python",
   "name": "python3"
  },
  "language_info": {
   "codemirror_mode": {
    "name": "ipython",
    "version": 2
   },
   "file_extension": ".py",
   "mimetype": "text/x-python",
   "name": "python",
   "nbconvert_exporter": "python",
   "pygments_lexer": "ipython2",
   "version": "2.7.6"
  }
 },
 "nbformat": 4,
 "nbformat_minor": 0
}